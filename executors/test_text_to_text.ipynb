{
 "cells": [
  {
   "cell_type": "code",
   "execution_count": null,
   "metadata": {},
   "outputs": [],
   "source": [
    "# test qwen2.5\n",
    "import os\n",
    "os.environ[\"CUDA_VISIBLE_DEVICES\"] = \"7\"\n",
    "from text_to_text import Qwen2Executor\n",
    "model_name = \"Qwen/Qwen2.5-3B-Instruct\"\n",
    "tmp = Qwen2Executor(model_name)\n",
    "prompt = \"Tell me something about Lebron James\"\n",
    "inputs = {\n",
    "    \"prompt\": prompt,\n",
    "    \"max_output_size\": 1000\n",
    "}\n",
    "results = tmp.generate_output(inputs)\n",
    "print(results)\n",
    "print(\"Inference latency is： \", tmp.get_latency(), \"s\")\n",
    "print(\"Model memory footprint is： \", tmp.get_memory(), \"GB\")"
   ]
  },
  {
   "cell_type": "code",
   "execution_count": 8,
   "metadata": {},
   "outputs": [
    {
     "name": "stderr",
     "output_type": "stream",
     "text": [
      "Loading checkpoint shards: 100%|██████████| 4/4 [00:07<00:00,  1.80s/it]\n"
     ]
    },
    {
     "name": "stdout",
     "output_type": "stream",
     "text": [
      "<bos><start_of_turn>user\n",
      "Tell me something about Lebron James<end_of_turn>\n",
      "\n",
      "\n",
      "Here are some facts about LeBron James:\n",
      "\n",
      "* **Full Name:** LeBron Raymone James Sr.\n",
      "* **Born:** December 30, 1984, in Akron, Ohio\n",
      "* **Nickname:** King James\n",
      "* **Position:** Small Forward\n",
      "* **NBA Teams:** Cleveland Cavaliers (2003-2010, 2014-2018), Miami Heat (2010-2014), Los Angeles Lakers (2018-present)\n",
      "* **Accomplishments:**\n",
      "    * 4x NBA Champion\n",
      "    * 4x NBA MVP\n",
      "    * 19x NBA All-Star\n",
      "    * 2x Olympic Gold Medalist\n",
      "\n",
      "LeBron James is widely considered one of the greatest basketball players of all time. He is known for his exceptional athleticism, versatility, and leadership on the court. \n",
      "\n",
      "\n",
      "Let me know if you'd like to know more about a specific aspect of his career or life!\n",
      "<end_of_turn>\n",
      "<eos>\n",
      "Inference latency is：  12.157425636000001 s\n",
      "Model memory footprint is：  17.38380254561144 GB\n"
     ]
    }
   ],
   "source": [
    "# test Gemma2\n",
    "import os\n",
    "os.environ[\"CUDA_VISIBLE_DEVICES\"] = \"7\"\n",
    "from text_to_text import Gemm2Executor\n",
    "model_name = \"google/gemma-2-9b-it\"\n",
    "tmp = Gemm2Executor(model_name=model_name,)\n",
    "prompt = \"Tell me something about Lebron James\"\n",
    "inputs = {\n",
    "    \"prompt\": prompt,\n",
    "    \"max_output_size\": 1000\n",
    "}\n",
    "results = tmp.generate_output(inputs)\n",
    "print(results)\n",
    "print(\"Inference latency is： \", tmp.get_latency(), \"s\")\n",
    "print(\"Model memory footprint is： \", tmp.get_memory(), \"GB\")"
   ]
  },
  {
   "cell_type": "code",
   "execution_count": 6,
   "metadata": {},
   "outputs": [
    {
     "name": "stderr",
     "output_type": "stream",
     "text": [
      "Setting `pad_token_id` to `eos_token_id`:None for open-end generation.\n",
      "/home/sunyi/.conda/envs/meld/lib/python3.10/site-packages/bitsandbytes/autograd/_functions.py:316: UserWarning: MatMul8bitLt: inputs will be cast from torch.bfloat16 to float16 during quantization\n",
      "  warnings.warn(f\"MatMul8bitLt: inputs will be cast from {A.dtype} to float16 during quantization\")\n"
     ]
    },
    {
     "name": "stdout",
     "output_type": "stream",
     "text": [
      "Tell me something about Lebron James. The man is a beast on the court.\n",
      "LeBron James is widely regarded as one of the greatest basketball players of all time. He has a long and storied career in the NBA, and has been dominating the league for nearly two decades. Here are some key facts about LeBron James:\n",
      "\n",
      "**Early Life and College**\n",
      "\n",
      "LeBron James was born on December 30, 1984, in Akron, Ohio. He grew up in a low-income household with his mother, Gloria James, and his father, Anthony James. LeBron's father abandoned the family when LeBron was just a toddler, and his mother raised him and his older sister, Savannah, on her own.\n",
      "\n",
      "LeBron attended St. Vincent-St. Mary High School in Akron, where he was a standout player and won numerous awards, including three Ohio Mr. Basketball awards. He was also a standout player in high school basketball, earning a spot on the USA Basketball team that competed in the 2002 and 2003 FIBA World Championships.\n",
      "\n",
      "**NBA Career**\n",
      "\n",
      "The Cleveland Cavaliers selected LeBron James with the first overall pick in the 2003 NBA draft. He quickly became one of the league's top players, earning numerous accolades, including:\n",
      "\n",
      "* 4 NBA championships (2012, 2013, 2016, 2020)\n",
      "* 4 NBA Most Valuable Player (MVP) awards (2009, 2010, 2012, 2013)\n",
      "* 17 NBA All-Star Game appearances\n",
      "* 12 All-NBA Team selections\n",
      "* 2 Olympic gold medals (2008, 2012)\n",
      "\n",
      "LeBron has also been named to the NBA All-Defensive First Team 9 times and the NBA All-Defensive Second Team 5 times.\n",
      "\n",
      "**Playing Style**\n",
      "\n",
      "LeBron is known for his versatility, athleticism, and dominance on the court. He is a 6'8\" point forward who can:\n",
      "\n",
      "* Play both inside and outside the paint\n",
      "* Score from the post, mid-range, and beyond the arc\n",
      "* Pass the ball to his teammates effectively\n",
      "* Defend at an elite level\n",
      "\n",
      "**Impact on the Game**\n",
      "\n",
      "LeBron's impact on the game extends beyond his individual achievements. He has:\n",
      "\n",
      "* Inspired a generation of young players, including many in the NBA and around the world\n",
      "* Helped to popularize the NBA globally, particularly in Asia\n",
      "* Been a vocal advocate for social justice and equality, using his platform to raise awareness about issues like racism, poverty, and education\n",
      "\n",
      "**Philanthropy and Business Ventures**\n",
      "\n",
      "LeBron is also known for his philanthropic efforts, particularly in his hometown of Akron. He has:\n",
      "\n",
      "* Founded the LeBron James Family Foundation, which supports education, youth development, and community empowerment initiatives\n",
      "* Invested in various business ventures, including a production company, SpringHill Entertainment, and a chain of gyms, House of Hoops\n",
      "* Partnered with several brands, including Nike, Intel, and Verizon, to promote his brand and products\n",
      "\n",
      "Overall, LeBron James is a true legend of the NBA, with a remarkable career and a lasting impact on the game. His dedication, work ethic, and passion for the game have inspired countless players and fans around the world.\n",
      "Inference latency is：  40.32505336 s\n",
      "Model memory footprint is：  1.4093993899855153 GB\n"
     ]
    }
   ],
   "source": [
    "# test llama\n",
    "import os\n",
    "os.environ[\"CUDA_VISIBLE_DEVICES\"] = \"7\"\n",
    "\n",
    "from text_to_text import LLaMAExecutor\n",
    "model_name = \"meta-llama/Llama-3.2-1B-Instruct\"\n",
    "tmp = LLaMAExecutor(model_name=model_name, model_quant=\"8bit\")\n",
    "prompt = \"Tell me something about Lebron James.\"\n",
    "inputs = {\n",
    "    \"prompt\": prompt,\n",
    "    \"max_output_size\": 1000\n",
    "}\n",
    "results = tmp.generate_output(inputs)\n",
    "print(results)\n",
    "print(\"Inference latency is： \", tmp.get_latency(), \"s\")\n",
    "print(\"Model memory footprint is： \", tmp.get_memory(), \"GB\")"
   ]
  }
 ],
 "metadata": {
  "kernelspec": {
   "display_name": "meld",
   "language": "python",
   "name": "python3"
  },
  "language_info": {
   "codemirror_mode": {
    "name": "ipython",
    "version": 3
   },
   "file_extension": ".py",
   "mimetype": "text/x-python",
   "name": "python",
   "nbconvert_exporter": "python",
   "pygments_lexer": "ipython3",
   "version": "3.10.15"
  }
 },
 "nbformat": 4,
 "nbformat_minor": 2
}
