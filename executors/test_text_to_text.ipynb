{
 "cells": [
  {
   "cell_type": "code",
   "execution_count": null,
   "metadata": {},
   "outputs": [],
   "source": [
    "# test qwen2.5\n",
    "import os\n",
    "os.environ[\"CUDA_VISIBLE_DEVICES\"] = \"7\"\n",
    "from text_to_text import Qwen2Executor\n",
    "model_name = \"Qwen/Qwen2.5-3B-Instruct\"\n",
    "tmp = Qwen2Executor(model_name)\n",
    "prompt = \"Tell me something about Lebron James\"\n",
    "inputs = {\n",
    "    \"prompt\": prompt,\n",
    "    \"max_output_size\": 1000\n",
    "}\n",
    "results = tmp.generate_output(inputs)\n",
    "print(results)\n",
    "print(\"Inference latency is： \", tmp.get_latency(), \"s\")\n",
    "print(\"Model memory footprint is： \", tmp.get_memory(), \"GB\")"
   ]
  },
  {
   "cell_type": "code",
   "execution_count": null,
   "metadata": {},
   "outputs": [],
   "source": [
    "# test Gemma2\n",
    "import os\n",
    "os.environ[\"CUDA_VISIBLE_DEVICES\"] = \"7\"\n",
    "from text_to_text import Gemm2Executor\n",
    "model_name = \"google/gemma-2-9b-it\"\n",
    "tmp = Gemm2Executor(model_name=model_name,)\n",
    "prompt = \"Tell me something about Lebron James\"\n",
    "inputs = {\n",
    "    \"prompt\": prompt,\n",
    "    \"max_output_size\": 1000\n",
    "}\n",
    "results = tmp.generate_output(inputs)\n",
    "print(results)\n",
    "print(\"Inference latency is： \", tmp.get_latency(), \"s\")\n",
    "print(\"Model memory footprint is： \", tmp.get_memory(), \"GB\")"
   ]
  },
  {
   "cell_type": "code",
   "execution_count": null,
   "metadata": {},
   "outputs": [],
   "source": [
    "# test llama\n",
    "import os\n",
    "os.environ[\"CUDA_VISIBLE_DEVICES\"] = \"7\"\n",
    "\n",
    "from text_to_text import LLaMAExecutor\n",
    "model_name = \"meta-llama/Llama-3.1-8B-Instruct\"\n",
    "tmp = LLaMAExecutor(model_name=model_name)\n",
    "prompt = \"Tell me something about Lebron James.\"\n",
    "inputs = {\n",
    "    \"prompt\": prompt,\n",
    "    \"max_output_size\": 1000\n",
    "}\n",
    "results = tmp.generate_output(inputs)\n",
    "print(results)\n",
    "print(\"Inference latency is： \", tmp.get_latency(), \"s\")\n",
    "print(\"Model memory footprint is： \", tmp.get_memory(), \"GB\")"
   ]
  },
  {
   "cell_type": "code",
   "execution_count": null,
   "metadata": {},
   "outputs": [],
   "source": [
    "# test mistral\n",
    "import os\n",
    "os.environ[\"CUDA_VISIBLE_DEVICES\"] = \"7\"\n",
    "\n",
    "from text_to_text import LLaMAExecutor\n",
    "model_name = \"meta-llama/Llama-3.1-8B-Instruct\"\n",
    "tmp = LLaMAExecutor(model_name=model_name)\n",
    "prompt = \"Tell me something about Lebron James.\"\n",
    "inputs = {\n",
    "    \"prompt\": prompt,\n",
    "    \"max_output_size\": 1000\n",
    "}\n",
    "results = tmp.generate_output(inputs)\n",
    "print(results)\n",
    "print(\"Inference latency is： \", tmp.get_latency(), \"s\")\n",
    "print(\"Model memory footprint is： \", tmp.get_memory(), \"GB\")\n"
   ]
  }
 ],
 "metadata": {
  "kernelspec": {
   "display_name": "meld",
   "language": "python",
   "name": "python3"
  },
  "language_info": {
   "name": "python",
   "version": "3.10.15"
  }
 },
 "nbformat": 4,
 "nbformat_minor": 2
}
