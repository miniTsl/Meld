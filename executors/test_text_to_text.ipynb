{
 "cells": [
  {
   "cell_type": "code",
   "execution_count": 1,
   "metadata": {},
   "outputs": [
    {
     "name": "stderr",
     "output_type": "stream",
     "text": [
      "/home/sunyi/.conda/envs/meld/lib/python3.10/site-packages/tqdm/auto.py:21: TqdmWarning: IProgress not found. Please update jupyter and ipywidgets. See https://ipywidgets.readthedocs.io/en/stable/user_install.html\n",
      "  from .autonotebook import tqdm as notebook_tqdm\n",
      "Loading checkpoint shards: 100%|██████████| 2/2 [00:02<00:00,  1.16s/it]\n"
     ]
    },
    {
     "name": "stdout",
     "output_type": "stream",
     "text": [
      "LeBron James is one of the most celebrated and successful basketball players in NBA history. Here are some key points about him:\n",
      "\n",
      "1. Career: He began his professional career with the Cleveland Cavaliers in 2003 and has since played for the Los Angeles Lakers, Miami Heat, and currently the Cleveland Cavaliers (as of the 2022-2023 season).\n",
      "\n",
      "2. Achievements: James has won four NBA championships, three as a member of the Miami Heat and one with the Cleveland Cavaliers. He has also been named NBA Most Valuable Player (MVP) three times.\n",
      "\n",
      "3. Leadership: Known for his exceptional leadership on the court, he often serves as a mentor to younger players and has inspired many through his philanthropic efforts.\n",
      "\n",
      "4. Versatility: James is a versatile player who can play multiple positions, including shooting guard, small forward, and power forward. He's known for his all-around game, which includes scoring, rebounding, and passing.\n",
      "\n",
      "5. Community involvement: Beyond his basketball career, James is deeply involved in various charitable causes. He's particularly known for his work with LeBron James Family Foundation, which focuses on education and health initiatives.\n",
      "\n",
      "6. Numbers: He holds numerous records and accolades, including the most consecutive games played by a player over 35 years old (292) and the most triple-doubles by an NBA player (78).\n",
      "\n",
      "7. Impact: James' impact on basketball extends beyond his on-court achievements; he has helped popularize the sport globally and set new standards for athletic excellence.\n",
      "\n",
      "LeBron James continues to be one of the most dominant and respected figures in professional basketball.\n",
      "Inference latency is：  11.020824962999999 s\n",
      "Model memory footprint is：  5.804704113119453 GB\n",
      "torch.bfloat16\n"
     ]
    }
   ],
   "source": [
    "# test qwen2.5\n",
    "import os\n",
    "os.environ[\"CUDA_VISIBLE_DEVICES\"] = \"5\"\n",
    "from text_to_text import Qwen2Executor\n",
    "model_name = \"Qwen/Qwen2.5-3B-Instruct\"\n",
    "tmp = Qwen2Executor(model_name)\n",
    "prompt = \"Tell me something about Lebron James\"\n",
    "inputs = {\n",
    "    \"prompt\": prompt,\n",
    "    \"max_output_size\": 1000\n",
    "}\n",
    "results = tmp.generate_output(inputs)\n",
    "print(results)\n",
    "print(\"Inference latency is： \", tmp.get_latency(), \"s\")\n",
    "print(\"Model memory footprint is： \", tmp.get_memory(), \"GB\")\n",
    "print(tmp.model.dtype)  # torch.bfloat16"
   ]
  },
  {
   "cell_type": "code",
   "execution_count": 2,
   "metadata": {},
   "outputs": [
    {
     "name": "stderr",
     "output_type": "stream",
     "text": [
      "Loading checkpoint shards: 100%|██████████| 2/2 [00:01<00:00,  1.01it/s]\n"
     ]
    },
    {
     "name": "stdout",
     "output_type": "stream",
     "text": [
      "Ah, James Bond. The quintessential spy. Here's a little something about him:\n",
      "\n",
      "**The Basics:**\n",
      "\n",
      "* **Real Name:** James Bond (his full name is a bit of a secret, but it's usually just \"James Bond\")\n",
      "* **Occupation:** Secret agent, known as a \"double-0 agent\" (007)\n",
      "* **Employer:** The British Secret Service (MI6)\n",
      "* **Known For:**  His suave demeanor, sharp wit, iconic gadgets, and ability to always get the job done.\n",
      "\n",
      "**Beyond the Stereotype:**\n",
      "\n",
      "* **Complex Character:** Bond is more than just a cool guy with a license to kill. He's a product of his time, reflecting the Cold War anxieties and the rise of espionage. He's flawed, often reckless, and struggles with his own morality.\n",
      "* **Evolution Over Time:** Bond has evolved significantly over the years, from the suave and charming Sean Connery to the more complex and introspective Daniel Craig. \n",
      "* **Cultural Icon:** Bond is a global phenomenon, inspiring countless books, films, video games, and merchandise. He's a symbol of sophistication, adventure, and the allure of the unknown.\n",
      "\n",
      "**What Makes Him So Enduring?**\n",
      "\n",
      "* **The Appeal of the Secret Agent:**  Bond embodies the thrill of the unknown, the excitement of danger, and the satisfaction of outsmarting the enemy.\n",
      "* **The Bond Girl:**  The women in Bond's life are often strong, independent, and capable, adding a layer of complexity and intrigue to the stories.\n",
      "* **The Gadgets and Action:**  Bond's arsenal of gadgets and his ability to perform daring stunts are a major draw for fans.\n",
      "\n",
      "**Want to know more?**\n",
      "\n",
      "* **Which Bond is your favorite?**  Tell me your thoughts on the different actors who have played Bond!\n",
      "* **What's your favorite Bond movie?**  We can discuss the iconic moments, the villains, and the overall impact of the film.\n",
      "* **Do you want to explore the history of the Bond franchise?**  We can delve into the origins of the character, the different writers and directors who have shaped the franchise, and the cultural impact of Bond. \n",
      "\n",
      "\n",
      "\n",
      "Let me know what you're interested in! \n",
      "\n",
      "Inference latency is：  16.525687619 s\n",
      "Model memory footprint is：  4.9176273383567555 GB\n",
      "torch.bfloat16\n"
     ]
    }
   ],
   "source": [
    "# test Gemma2\n",
    "import os\n",
    "os.environ[\"CUDA_VISIBLE_DEVICES\"] = \"5\"\n",
    "from text_to_text import Gemma2Executor\n",
    "model_name = \"google/gemma-2-2b-it\"\n",
    "tmp = Gemma2Executor(model_name=model_name,)\n",
    "prompt = \"Tell me something about 007\"\n",
    "inputs = {\n",
    "    \"prompt\": prompt,\n",
    "    \"max_output_size\": 1000\n",
    "}\n",
    "results = tmp.generate_output(inputs)\n",
    "print(results)\n",
    "print(\"Inference latency is： \", tmp.get_latency(), \"s\")\n",
    "print(\"Model memory footprint is： \", tmp.get_memory(), \"GB\")\n",
    "print(tmp.model.dtype)  # torch.bfloat16"
   ]
  },
  {
   "cell_type": "code",
   "execution_count": null,
   "metadata": {},
   "outputs": [
    {
     "name": "stderr",
     "output_type": "stream",
     "text": [
      "Loading checkpoint shards: 100%|██████████| 2/2 [00:02<00:00,  1.42s/it]\n",
      "Setting `pad_token_id` to `eos_token_id`:None for open-end generation.\n"
     ]
    },
    {
     "name": "stdout",
     "output_type": "stream",
     "text": [
      "Lebron James is a renowned American professional basketball player who has made a significant impact on the sport. Here are some key facts about him:\n",
      "\n",
      "1. **Early Life and Career**: Lebron James was born on December 30, 1984, in Akron, Ohio. He began playing basketball at a young age and was a standout player in high school. He was drafted by the Cleveland Cavaliers with the first overall pick in the 2003 NBA draft.\n",
      "\n",
      "2. **Achievements**: Throughout his career, Lebron James has achieved numerous accolades, including:\n",
      "   - 4 NBA championships (2012, 2013, 2016, 2020)\n",
      "   - 4 NBA Most Valuable Player (MVP) awards (2009, 2010, 2012, 2013)\n",
      "   - 17 NBA All-Star Game appearances\n",
      "   - 2 Olympic gold medals (2008, 2012)\n",
      "\n",
      "3. **Playing Style**: Lebron James is known for his versatility, athleticism, and exceptional skills on the court. He is a dominant force in the paint, able to score, rebound, and pass the ball effectively. He is also an excellent playmaker and has been known to take over games with his scoring ability.\n",
      "\n",
      "4. **Off-Court Ventures**: Lebron James is also a successful entrepreneur and philanthropist. He has founded several businesses, including a production company, SpringHill Entertainment, and a production company, Uninterrupted. He has also been involved in various charitable initiatives, including the LeBron James Family Foundation, which focuses on education and health initiatives in his hometown of Akron.\n",
      "\n",
      "5. **Controversies and Criticisms**: Lebron James has faced criticism and controversy throughout his career, particularly regarding his decision to leave Cleveland and join the Miami Heat in 2010. He has also been involved in several high-profile feuds with other NBA players and coaches.\n",
      "\n",
      "Overall, Lebron James is widely regarded as one of the greatest basketball players of all time, known for his incredible skills, work ethic, and off-court achievements.\n",
      "Inference latency is：  10.000669234999998 s\n",
      "Model memory footprint is：  6.043235763760478 GB\n",
      "torch.bfloat16\n"
     ]
    },
    {
     "ename": "",
     "evalue": "",
     "output_type": "error",
     "traceback": [
      "\u001b[1;31m在当前单元格或上一个单元格中执行代码时 Kernel 崩溃。\n",
      "\u001b[1;31m请查看单元格中的代码，以确定故障的可能原因。\n",
      "\u001b[1;31m单击<a href='https://aka.ms/vscodeJupyterKernelCrash'>此处</a>了解详细信息。\n",
      "\u001b[1;31m有关更多详细信息，请查看 Jupyter <a href='command:jupyter.viewOutput'>log</a>。"
     ]
    }
   ],
   "source": [
    "# test llama\n",
    "import os\n",
    "os.environ[\"CUDA_VISIBLE_DEVICES\"] = \"5\"\n",
    "\n",
    "from text_to_text import LLaMAExecutor\n",
    "model_name = \"meta-llama/Llama-3.2-3B-Instruct\"\n",
    "tmp = LLaMAExecutor(model_name=model_name)\n",
    "prompt = \"Tell me something about Lebron James.\"\n",
    "inputs = {\n",
    "    \"prompt\": prompt,\n",
    "    \"max_output_size\": 1000\n",
    "}\n",
    "results = tmp.generate_output(inputs)\n",
    "print(results)\n",
    "print(\"Inference latency is： \", tmp.get_latency(), \"s\")\n",
    "print(\"Model memory footprint is： \", tmp.get_memory(), \"GB\")\n",
    "print(tmp.model.dtype)  # torch.bfloat16"
   ]
  }
 ],
 "metadata": {
  "kernelspec": {
   "display_name": "meld",
   "language": "python",
   "name": "python3"
  },
  "language_info": {
   "codemirror_mode": {
    "name": "ipython",
    "version": 3
   },
   "file_extension": ".py",
   "mimetype": "text/x-python",
   "name": "python",
   "nbconvert_exporter": "python",
   "pygments_lexer": "ipython3",
   "version": "3.10.15"
  }
 },
 "nbformat": 4,
 "nbformat_minor": 2
}
